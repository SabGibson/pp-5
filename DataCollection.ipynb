{
 "cells": [
  {
   "attachments": {},
   "cell_type": "markdown",
   "metadata": {},
   "source": [
    "# Data Collection"
   ]
  },
  {
   "attachments": {},
   "cell_type": "markdown",
   "metadata": {},
   "source": [
    "collect data of leaf samples from companies product set ![kaggel](https://www.kaggle.com/datasets/codeinstitute/cherry-leaves)"
   ]
  },
  {
   "cell_type": "code",
   "execution_count": 2,
   "metadata": {},
   "outputs": [],
   "source": [
    "import os\n",
    "import tensorflow as tf\n",
    "from tensorflow.keras.preprocessing.image import img_to_array,load_img\n",
    "from tensorflow.keras.preprocessing.image import ImageDataGenerator\n",
    "import zipfile\n",
    "import random\n",
    "from shutil import copyfile\n",
    "import shutil"
   ]
  },
  {
   "cell_type": "code",
   "execution_count": 3,
   "metadata": {},
   "outputs": [],
   "source": [
    "local_zip = './archive.zip'\n",
    "zip_ref = zipfile.ZipFile(local_zip,'r')\n",
    "zip_ref.extractall('./')\n",
    "zip_ref.close()"
   ]
  },
  {
   "attachments": {},
   "cell_type": "markdown",
   "metadata": {},
   "source": [
    "Images were given in a zipfile code above and first needed to be extracted the images can be accessed from path \"./cherry-leaves\""
   ]
  },
  {
   "cell_type": "code",
   "execution_count": 4,
   "metadata": {},
   "outputs": [],
   "source": [
    "root_path = \"./cherry-leaves/\"\n",
    "source_healthy_path = os.path.join(root_path,'healthy')\n",
    "source_sick_path = os.path.join(root_path,'powdery_mildew')"
   ]
  },
  {
   "cell_type": "code",
   "execution_count": 5,
   "metadata": {},
   "outputs": [
    {
     "name": "stdout",
     "output_type": "stream",
     "text": [
      "There are 2104 healthy leaves\n",
      "There are 2104 sick leaves\n"
     ]
    }
   ],
   "source": [
    "print(f'There are {len(os.listdir(source_healthy_path))} healthy leaves')\n",
    "\n",
    "print(f'There are {len(os.listdir(source_sick_path))} sick leaves')"
   ]
  },
  {
   "attachments": {},
   "cell_type": "markdown",
   "metadata": {},
   "source": [
    "The is an even distribution between healthy and sick samples"
   ]
  },
  {
   "cell_type": "code",
   "execution_count": 6,
   "metadata": {},
   "outputs": [],
   "source": [
    "\n",
    "\n",
    "sample_image_healthy = img_to_array(load_img(f'{os.path.join(source_healthy_path,os.listdir(source_healthy_path)[0])}'))"
   ]
  },
  {
   "cell_type": "code",
   "execution_count": 7,
   "metadata": {},
   "outputs": [
    {
     "data": {
      "text/plain": [
       "(256, 256, 3)"
      ]
     },
     "execution_count": 7,
     "metadata": {},
     "output_type": "execute_result"
    }
   ],
   "source": [
    "sample_image_healthy.shape"
   ]
  },
  {
   "attachments": {},
   "cell_type": "markdown",
   "metadata": {},
   "source": [
    "Each image has the shape 256x256, this is a moderate size next we will split our data into training and validation sets as part of our data collection process"
   ]
  },
  {
   "cell_type": "code",
   "execution_count": 8,
   "metadata": {},
   "outputs": [],
   "source": [
    "try:\n",
    "    os.makedirs(os.path.join(root_path,'training/healthy'))\n",
    "    os.makedirs(os.path.join(root_path,'validation/healthy'))\n",
    "    os.makedirs(os.path.join(root_path,'training/sick'))\n",
    "    os.makedirs(os.path.join(root_path,'validation/sick'))\n",
    "except:\n",
    "    print(\"filesexist\")"
   ]
  },
  {
   "attachments": {},
   "cell_type": "markdown",
   "metadata": {},
   "source": [
    "We create a function to help slipt our data into traning and validation sets"
   ]
  },
  {
   "cell_type": "code",
   "execution_count": 9,
   "metadata": {},
   "outputs": [],
   "source": [
    "def split_data(source_dir, training_dir, validation_dir, split_size):\n",
    "  \"\"\"\n",
    "  Splits the data into train and test sets\n",
    "  \n",
    "  \"\"\"\n",
    "\n",
    "  ### START CODE HERE\n",
    "  files=[]\n",
    "  for filename in os.listdir(source_dir):\n",
    "    file = source_dir + filename\n",
    "    if os.path.getsize(file) > 0:\n",
    "      files.append(filename)\n",
    "    else:\n",
    "      print(f'{filename} is zero length, so ignoring.')\n",
    "\n",
    "    training_length = int(len(files) * split_size)\n",
    "    testing_length = int(len(files) - training_length)\n",
    "    shuffled_set = random.sample(files, len(files))\n",
    "    training_set = shuffled_set[0:training_length]\n",
    "    testing_set = shuffled_set[-testing_length:]\n",
    "  \n",
    "  for filename in training_set:\n",
    "    src_file = source_dir + filename\n",
    "    dest_file = training_dir + filename\n",
    "    copyfile(src_file, dest_file)\n",
    "    \n",
    "  for filename in testing_set:\n",
    "    src_file = source_dir + filename\n",
    "    dest_file = validation_dir + filename\n",
    "    copyfile(src_file, dest_file)\n"
   ]
  },
  {
   "cell_type": "code",
   "execution_count": 10,
   "metadata": {},
   "outputs": [],
   "source": [
    "healthy_source_dir = \"./cherry-leaves/healthy/\"\n",
    "sick_source_dir = \"./cherry-leaves/powdery_mildew/\"\n",
    "\n",
    "training_dir = \"./cherry-leaves/training/\"\n",
    "testing_dir = \"./cherry-leaves/validation/\"\n",
    "\n",
    "train_healthy_dir = os.path.join(training_dir,\"healthy/\")\n",
    "test_healthy_dir = os.path.join(testing_dir,\"healthy/\")\n",
    "\n",
    "train_sick_dir = os.path.join(training_dir,\"sick/\")\n",
    "test_sick_dir = os.path.join(testing_dir,\"sick/\")\n",
    "\n",
    "if len(os.listdir(train_healthy_dir)) > 0:\n",
    "  for file in os.scandir(train_healthy_dir):\n",
    "    os.remove(file.path)\n",
    "if len(os.listdir(train_sick_dir)) > 0:\n",
    "  for file in os.scandir(train_sick_dir):\n",
    "    os.remove(file.path)\n",
    "if len(os.listdir(test_healthy_dir)) > 0:\n",
    "  for file in os.scandir(test_healthy_dir):\n",
    "    os.remove(file.path)\n",
    "if len(os.listdir(test_sick_dir)) > 0:\n",
    "  for file in os.scandir(test_sick_dir):\n",
    "    os.remove(file.path)\n",
    "\n",
    "# Define proportion of images used for training\n",
    "split_size = .9\n"
   ]
  },
  {
   "cell_type": "code",
   "execution_count": 11,
   "metadata": {},
   "outputs": [
    {
     "name": "stdout",
     "output_type": "stream",
     "text": [
      "./cherry-leaves/training/healthy/\n",
      "./cherry-leaves/validation/healthy/\n",
      "./cherry-leaves/training/sick/\n",
      "./cherry-leaves/validation/sick/\n"
     ]
    }
   ],
   "source": [
    "print(train_healthy_dir)\n",
    "print(test_healthy_dir)\n",
    "print(train_sick_dir)\n",
    "print(test_sick_dir)"
   ]
  },
  {
   "cell_type": "code",
   "execution_count": 12,
   "metadata": {},
   "outputs": [],
   "source": [
    "\n",
    "split_data(healthy_source_dir, train_healthy_dir, test_healthy_dir, split_size)\n",
    "split_data(sick_source_dir, train_sick_dir, test_sick_dir, split_size)\n"
   ]
  },
  {
   "cell_type": "code",
   "execution_count": 13,
   "metadata": {},
   "outputs": [
    {
     "name": "stdout",
     "output_type": "stream",
     "text": [
      "There are 1893 images of healthy for training\n",
      "There are 1893 images of sick for training\n",
      "There are 211 images of healthy for validation\n",
      "There are 211 images of sick for validation\n"
     ]
    }
   ],
   "source": [
    "print(f\"There are {len(os.listdir(train_healthy_dir))} images of healthy for training\")\n",
    "print(f\"There are {len(os.listdir(train_sick_dir))} images of sick for training\")\n",
    "print(f\"There are {len(os.listdir(test_healthy_dir))} images of healthy for validation\")\n",
    "print(f\"There are {len(os.listdir(test_sick_dir))} images of sick for validation\")"
   ]
  }
 ],
 "metadata": {
  "kernelspec": {
   "display_name": "tflow",
   "language": "python",
   "name": "python3"
  },
  "language_info": {
   "codemirror_mode": {
    "name": "ipython",
    "version": 3
   },
   "file_extension": ".py",
   "mimetype": "text/x-python",
   "name": "python",
   "nbconvert_exporter": "python",
   "pygments_lexer": "ipython3",
   "version": "3.10.7"
  },
  "orig_nbformat": 4
 },
 "nbformat": 4,
 "nbformat_minor": 2
}
