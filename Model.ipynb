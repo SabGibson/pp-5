{
 "cells": [
  {
   "attachments": {},
   "cell_type": "markdown",
   "metadata": {},
   "source": [
    "# Build model"
   ]
  },
  {
   "attachments": {},
   "cell_type": "markdown",
   "metadata": {},
   "source": [
    "In this note book we build a model to predict if a leaf is healthy or not"
   ]
  },
  {
   "cell_type": "code",
   "execution_count": 1,
   "metadata": {},
   "outputs": [],
   "source": [
    "import tensorflow as tf \n",
    "import os \n",
    "from tensorflow.keras.preprocessing.image import ImageDataGenerator\n",
    "import matplotlib.pyplot as plt"
   ]
  },
  {
   "cell_type": "code",
   "execution_count": 2,
   "metadata": {},
   "outputs": [],
   "source": [
    "# define dirs\n",
    "base_dir = './cherry-leaves/'\n",
    "train_dir = os.path.join(base_dir, 'training/')\n",
    "test_dir = os.path.join(base_dir, 'validation/')\n"
   ]
  },
  {
   "attachments": {},
   "cell_type": "markdown",
   "metadata": {},
   "source": [
    "to increase the performance of our model we will perform data augmentation to increase the number of training samples when loading our data"
   ]
  },
  {
   "cell_type": "code",
   "execution_count": 3,
   "metadata": {},
   "outputs": [
    {
     "name": "stdout",
     "output_type": "stream",
     "text": [
      "Found 3786 images belonging to 2 classes.\n",
      "Found 422 images belonging to 2 classes.\n"
     ]
    }
   ],
   "source": [
    "#prepare training and validation data\n",
    "train_data_gen = ImageDataGenerator(rescale=1./225,\n",
    "                              width_shift_range=0.3,\n",
    "                              height_shift_range=0.3,\n",
    "                              rotation_range=60,\n",
    "                              shear_range=0.2,\n",
    "                              zoom_range=0.2,\n",
    "                              horizontal_flip=True,\n",
    "                              vertical_flip=True,\n",
    "                              fill_mode='nearest')\n",
    "\n",
    "train_generator = train_data_gen.flow_from_directory(\n",
    "    train_dir,\n",
    "    target_size=(256,256),\n",
    "    batch_size=30,\n",
    "    class_mode='binary'\n",
    ")\n",
    "\n",
    "test_data_gen = ImageDataGenerator(rescale=1./255)\n",
    "\n",
    "test_generator = test_data_gen.flow_from_directory(\n",
    "    test_dir,\n",
    "    target_size=(256,256),\n",
    "    batch_size=30,\n",
    "    class_mode='binary'\n",
    ")\n"
   ]
  },
  {
   "cell_type": "code",
   "execution_count": 4,
   "metadata": {},
   "outputs": [],
   "source": [
    "class RuntimeMinimizer(tf.keras.callbacks.Callback):\n",
    "    def on_epoch_end(self, epoch, logs={}):\n",
    "        if logs.get('val_accuracy') >= 0.998: \n",
    "            print(\"\\nReached 99% validation accuracy. Stopping training!\")\n",
    "            self.model.stop_training = True"
   ]
  },
  {
   "cell_type": "code",
   "execution_count": 5,
   "metadata": {},
   "outputs": [],
   "source": [
    "# make model deep neural net conv \n",
    "\n",
    "model = tf.keras.models.Sequential([ \n",
    "      tf.keras.layers.Conv2D(16,(3,3),activation='relu',input_shape=(256,256,3)),\n",
    "      tf.keras.layers.MaxPool2D(2,2),\n",
    "      tf.keras.layers.Conv2D(32,(3,3),activation='relu'),\n",
    "      tf.keras.layers.MaxPool2D(2,2),\n",
    "      tf.keras.layers.Conv2D(64,(3,3),activation='relu'),\n",
    "      tf.keras.layers.MaxPool2D(2,2),\n",
    "      tf.keras.layers.Flatten(),\n",
    "      tf.keras.layers.Dense(512,activation='relu'),\n",
    "      tf.keras.layers.Dense(1,activation='sigmoid')\n",
    "\n",
    "  ])\n",
    "model.compile(optimizer=tf.keras.optimizers.Adam(learning_rate=0.001),\n",
    "                loss=tf.keras.losses.BinaryCrossentropy(),\n",
    "                metrics=['accuracy'])"
   ]
  },
  {
   "cell_type": "code",
   "execution_count": 6,
   "metadata": {},
   "outputs": [
    {
     "name": "stdout",
     "output_type": "stream",
     "text": [
      "Epoch 1/20\n",
      "127/127 [==============================] - 104s 807ms/step - loss: 0.5064 - accuracy: 0.7689 - val_loss: 0.0943 - val_accuracy: 0.9810\n",
      "Epoch 2/20\n",
      "127/127 [==============================] - 98s 767ms/step - loss: 0.0902 - accuracy: 0.9712 - val_loss: 0.0624 - val_accuracy: 0.9810\n",
      "Epoch 3/20\n",
      "127/127 [==============================] - 100s 787ms/step - loss: 0.0311 - accuracy: 0.9902 - val_loss: 0.0145 - val_accuracy: 0.9953\n",
      "Epoch 4/20\n",
      "127/127 [==============================] - 99s 774ms/step - loss: 0.0283 - accuracy: 0.9892 - val_loss: 0.0441 - val_accuracy: 0.9787\n",
      "Epoch 5/20\n",
      "127/127 [==============================] - 100s 786ms/step - loss: 0.0691 - accuracy: 0.9805 - val_loss: 0.0157 - val_accuracy: 0.9953\n",
      "Epoch 6/20\n",
      "127/127 [==============================] - 98s 770ms/step - loss: 0.0377 - accuracy: 0.9902 - val_loss: 0.0268 - val_accuracy: 0.9929\n",
      "Epoch 7/20\n",
      "127/127 [==============================] - 101s 795ms/step - loss: 0.0116 - accuracy: 0.9966 - val_loss: 0.0396 - val_accuracy: 0.9882\n",
      "Epoch 8/20\n",
      "127/127 [==============================] - 112s 883ms/step - loss: 0.1208 - accuracy: 0.9569 - val_loss: 0.0414 - val_accuracy: 0.9905\n",
      "Epoch 9/20\n",
      "127/127 [==============================] - 101s 791ms/step - loss: 0.0436 - accuracy: 0.9844 - val_loss: 0.0312 - val_accuracy: 0.9929\n",
      "Epoch 10/20\n",
      "127/127 [==============================] - 100s 784ms/step - loss: 0.0228 - accuracy: 0.9929 - val_loss: 0.0278 - val_accuracy: 0.9929\n",
      "Epoch 11/20\n",
      "127/127 [==============================] - 98s 767ms/step - loss: 0.0711 - accuracy: 0.9731 - val_loss: 0.1629 - val_accuracy: 0.9763\n",
      "Epoch 12/20\n",
      "127/127 [==============================] - 100s 783ms/step - loss: 0.0614 - accuracy: 0.9823 - val_loss: 0.0620 - val_accuracy: 0.9858\n",
      "Epoch 13/20\n",
      "127/127 [==============================] - 98s 769ms/step - loss: 0.0328 - accuracy: 0.9892 - val_loss: 0.1163 - val_accuracy: 0.9716\n",
      "Epoch 14/20\n",
      "127/127 [==============================] - 100s 785ms/step - loss: 0.0326 - accuracy: 0.9897 - val_loss: 0.0403 - val_accuracy: 0.9905\n",
      "Epoch 15/20\n",
      "127/127 [==============================] - ETA: 0s - loss: 0.0097 - accuracy: 0.9971\n",
      "Reached 99% validation accuracy. Stopping training!\n",
      "127/127 [==============================] - 105s 824ms/step - loss: 0.0097 - accuracy: 0.9971 - val_loss: 0.0012 - val_accuracy: 1.0000\n"
     ]
    }
   ],
   "source": [
    "history = model.fit(train_generator,\n",
    "                    epochs=20,\n",
    "                    verbose=1,\n",
    "                    validation_data=test_generator,\n",
    "                    callbacks=[RuntimeMinimizer()])"
   ]
  },
  {
   "cell_type": "code",
   "execution_count": 7,
   "metadata": {},
   "outputs": [
    {
     "data": {
      "image/png": "[encoded data removed]",
      "text/plain": [
       "<Figure size 640x480 with 1 Axes>"
      ]
     },
     "metadata": {},
     "output_type": "display_data"
    },
    {
     "name": "stdout",
     "output_type": "stream",
     "text": [
      "\n"
     ]
    },
    {
     "data": {
      "image/png": "[encoded data removed]",
      "text/plain": [
       "<Figure size 640x480 with 1 Axes>"
      ]
     },
     "metadata": {},
     "output_type": "display_data"
    }
   ],
   "source": [
    "# Retrieve a list of list results on training and test data\n",
    "# sets for each training epoch\n",
    "#-----------------------------------------------------------\n",
    "acc=history.history['accuracy']\n",
    "val_acc=history.history['val_accuracy']\n",
    "loss=history.history['loss']\n",
    "val_loss=history.history['val_loss']\n",
    "\n",
    "epochs=range(len(acc)) # Get number of epochs\n",
    "\n",
    "#------------------------------------------------\n",
    "# Plot training and validation accuracy per epoch\n",
    "#------------------------------------------------\n",
    "plt.plot(epochs, acc, 'r', \"Training Accuracy\")\n",
    "plt.plot(epochs, val_acc, 'b', \"Validation Accuracy\")\n",
    "plt.title('Training and validation accuracy')\n",
    "plt.show()\n",
    "print(\"\")\n",
    "\n",
    "#------------------------------------------------\n",
    "# Plot training and validation loss per epoch\n",
    "#------------------------------------------------\n",
    "plt.plot(epochs, loss, 'r', \"Training Loss\")\n",
    "plt.plot(epochs, val_loss, 'b', \"Validation Loss\")\n",
    "plt.show()"
   ]
  },
  {
   "attachments": {},
   "cell_type": "markdown",
   "metadata": {},
   "source": [
    "Resuls show 99 % accuracy on validation set and 97% on training set model can be said to meet business requirements"
   ]
  },
  {
   "cell_type": "code",
   "execution_count": 9,
   "metadata": {},
   "outputs": [],
   "source": [
    "import pickle\n",
    "with open('models/history.pickle', 'wb') as file_pi:\n",
    "    pickle.dump(history.history, file_pi)"
   ]
  },
  {
   "cell_type": "code",
   "execution_count": 10,
   "metadata": {},
   "outputs": [],
   "source": [
    "with open('models/history.pickle', 'rb') as file_pi:\n",
    "    loaded_history = pickle.load(file_pi)"
   ]
  },
  {
   "cell_type": "code",
   "execution_count": 12,
   "metadata": {},
   "outputs": [
    {
     "data": {
      "text/plain": [
       "dict_keys(['loss', 'accuracy', 'val_loss', 'val_accuracy'])"
      ]
     },
     "execution_count": 12,
     "metadata": {},
     "output_type": "execute_result"
    }
   ],
   "source": [
    "loaded_history.keys()"
   ]
  },
  {
   "cell_type": "code",
   "execution_count": 16,
   "metadata": {},
   "outputs": [
    {
     "data": {
      "text/plain": [
       "[0.5064306855201721,\n",
       " 0.09017984569072723,\n",
       " 0.03114370070397854,\n",
       " 0.02833946794271469,\n",
       " 0.06906741112470627,\n",
       " 0.03771459311246872,\n",
       " 0.011627034284174442,\n",
       " 0.12075530737638474,\n",
       " 0.043629828840494156,\n",
       " 0.022786961868405342,\n",
       " 0.07113171368837357,\n",
       " 0.06136927381157875,\n",
       " 0.03283128887414932,\n",
       " 0.03262981027364731,\n",
       " 0.009694256819784641]"
      ]
     },
     "execution_count": 16,
     "metadata": {},
     "output_type": "execute_result"
    }
   ],
   "source": [
    "loaded_history['loss']"
   ]
  },
  {
   "cell_type": "code",
   "execution_count": null,
   "metadata": {},
   "outputs": [],
   "source": []
  }
 ],
 "metadata": {
  "kernelspec": {
   "display_name": "tflow",
   "language": "python",
   "name": "python3"
  },
  "language_info": {
   "codemirror_mode": {
    "name": "ipython",
    "version": 3
   },
   "file_extension": ".py",
   "mimetype": "text/x-python",
   "name": "python",
   "nbconvert_exporter": "python",
   "pygments_lexer": "ipython3",
   "version": "3.10.7"
  },
  "orig_nbformat": 4
 },
 "nbformat": 4,
 "nbformat_minor": 2
}
