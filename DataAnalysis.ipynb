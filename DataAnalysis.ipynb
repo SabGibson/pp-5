{
 "cells": [
  {
   "attachments": {},
   "cell_type": "markdown",
   "metadata": {},
   "source": [
    "# Data analysis of pcitures"
   ]
  },
  {
   "attachments": {},
   "cell_type": "markdown",
   "metadata": {},
   "source": [
    "I this notebook we aim to develop understanding of what makes up visually a healthy and un healthy leaf"
   ]
  },
  {
   "cell_type": "code",
   "execution_count": null,
   "metadata": {},
   "outputs": [],
   "source": [
    "import numpy as np \n",
    "import tensorflow as tf\n",
    "from tensorflow.keras.preprocessing.image import ImageDataGenerator\n",
    "import os\n",
    "import matplotlib.image as mpimg\n",
    "import matplotlib.pyplot as plt\n",
    "import cv2"
   ]
  },
  {
   "cell_type": "code",
   "execution_count": null,
   "metadata": {},
   "outputs": [],
   "source": [
    "import tensorflow as tf\n",
    "print(\"Num GPUs Available: \", len(tf.config.list_physical_devices('GPU')))"
   ]
  },
  {
   "cell_type": "code",
   "execution_count": null,
   "metadata": {},
   "outputs": [],
   "source": [
    "base_dir = './cherry-leaves/'\n",
    "train_dir = os.path.join(base_dir, 'training/')\n",
    "\n",
    "# Load training dirs for samples\n",
    "train_healthy_dir = os.path.join(train_dir, 'healthy')\n",
    "train_sick_dir = os.path.join(train_dir, 'sick')\n"
   ]
  },
  {
   "cell_type": "code",
   "execution_count": null,
   "metadata": {},
   "outputs": [],
   "source": [
    "train_healthy_fnames = os.listdir( train_healthy_dir )\n",
    "train_sick_fnames = os.listdir( train_sick_dir )"
   ]
  },
  {
   "cell_type": "code",
   "execution_count": null,
   "metadata": {},
   "outputs": [],
   "source": [
    "nrows = 4\n",
    "ncols = 4\n",
    "pic_index = 0\n",
    "\n",
    "fig = plt.gcf()\n",
    "fig.set_size_inches(ncols*4, nrows*4)\n",
    "\n",
    "pic_index+=8\n",
    "\n",
    "next_healthy_pics = [os.path.join(train_healthy_dir, fname) \n",
    "                for fname in train_healthy_fnames[ pic_index-8:pic_index] \n",
    "               ]\n",
    "\n",
    "next_sick_pics = [os.path.join(train_sick_dir, fname) \n",
    "                for fname in train_sick_fnames[ pic_index-8:pic_index]\n",
    "               ]\n",
    "\n",
    "for i, img_path in enumerate(next_healthy_pics+next_sick_pics):\n",
    "  sp = plt.subplot(nrows, ncols, i + 1)\n",
    "  sp.axis('Off')\n",
    "\n",
    "  img = mpimg.imread(img_path)\n",
    "  plt.imshow(img)\n",
    "\n",
    "plt.show()"
   ]
  },
  {
   "attachments": {},
   "cell_type": "markdown",
   "metadata": {},
   "source": [
    "Figure shows collage of healthy and un healthy leaves with the top two rows consisting of healthy leaves and the last two unhealthy.\n",
    "\n",
    "from visual inspection on average it can be seen that:\n",
    "- healthy leaves have a consistant shape \n",
    "- healthy leaves have less white spots \n",
    "- healthy leaves have a deeper green color "
   ]
  },
  {
   "cell_type": "code",
   "execution_count": null,
   "metadata": {},
   "outputs": [],
   "source": [
    "\n",
    "datagen = ImageDataGenerator(rescale=1./255)\n",
    "\n",
    "leaves_gen = datagen.flow_from_directory(\n",
    "    train_dir,\n",
    "    target_size=(256, 256),\n",
    "    batch_size=20,\n",
    "    class_mode='binary')\n"
   ]
  },
  {
   "cell_type": "code",
   "execution_count": null,
   "metadata": {},
   "outputs": [],
   "source": [
    "def segregate_images(generator):\n",
    "    sick_images = []\n",
    "    healthy_images = []\n",
    "    \n",
    "    for images, labels in generator:\n",
    "        for i in range(images.shape[0]):\n",
    "            if labels[i] == 0:  # assuming '0' is the label for 'sick'\n",
    "                sick_images.append(images[i])\n",
    "            else:  # assuming '1' is the label for 'healthy'\n",
    "                healthy_images.append(images[i])\n",
    "                \n",
    "        # break the loop once all images are processed\n",
    "        if generator.batch_index == 0:\n",
    "            break\n",
    "\n",
    "    return np.array(sick_images), np.array(healthy_images)\n",
    "\n",
    "sick_images, healthy_images = segregate_images(leaves_gen)\n",
    "\n",
    "sick_avg = np.mean(sick_images, axis=0)\n",
    "sick_var = np.std(sick_images, axis=0)\n",
    "\n",
    "healthy_avg = np.mean(healthy_images, axis=0)\n",
    "healthy_var = np.std(healthy_images, axis=0)"
   ]
  },
  {
   "cell_type": "code",
   "execution_count": null,
   "metadata": {},
   "outputs": [],
   "source": [
    "def plot_images(avg_image, var_image, title):\n",
    "    fig, ax = plt.subplots(1, 2, figsize=(10, 5))\n",
    "\n",
    "    ax[0].imshow(avg_image)\n",
    "    ax[0].set_title(f\"Average {title}\")\n",
    "    ax[0].axis(\"off\")\n",
    "\n",
    "    ax[1].imshow(var_image)\n",
    "    ax[1].set_title(f\"Variability {title}\")\n",
    "    ax[1].axis(\"off\")\n",
    "\n",
    "    plt.show()\n",
    "\n",
    "plot_images(sick_avg, sick_var, \"Sick Leaves\")\n",
    "plot_images(healthy_avg, healthy_var, \"Healthy Leaves\")\n"
   ]
  },
  {
   "attachments": {},
   "cell_type": "markdown",
   "metadata": {},
   "source": [
    "The figure above shows the average mean and variance of sick and healthy leaves\n",
    "from this we can understand :\n",
    "- There is greater variation in sick leaves than healty\n",
    "- on average healthy leaves are brighter than unhealty leaves "
   ]
  }
 ],
 "metadata": {
  "kernelspec": {
   "display_name": "tflow",
   "language": "python",
   "name": "python3"
  },
  "language_info": {
   "codemirror_mode": {
    "name": "ipython",
    "version": 3
   },
   "file_extension": ".py",
   "mimetype": "text/x-python",
   "name": "python",
   "nbconvert_exporter": "python",
   "pygments_lexer": "ipython3",
   "version": "3.10.7"
  },
  "orig_nbformat": 4
 },
 "nbformat": 4,
 "nbformat_minor": 2
}
